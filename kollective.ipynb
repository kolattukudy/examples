{
  "nbformat": 4,
  "nbformat_minor": 0,
  "metadata": {
    "colab": {
      "name": "kollective.ipynb",
      "provenance": [],
      "collapsed_sections": [],
      "authorship_tag": "ABX9TyOMi3UdlKk7Z8EgXoiMyeXA",
      "include_colab_link": true
    },
    "kernelspec": {
      "name": "python3",
      "display_name": "Python 3"
    },
    "language_info": {
      "name": "python"
    }
  },
  "cells": [
    {
      "cell_type": "markdown",
      "metadata": {
        "id": "view-in-github",
        "colab_type": "text"
      },
      "source": [
        "<a href=\"https://colab.research.google.com/github/kolattukudy/examples/blob/master/kollective.ipynb\" target=\"_parent\"><img src=\"https://colab.research.google.com/assets/colab-badge.svg\" alt=\"Open In Colab\"/></a>"
      ]
    },
    {
      "cell_type": "code",
      "metadata": {
        "colab": {
          "base_uri": "https://localhost:8080/"
        },
        "id": "devGwWoiuB8N",
        "outputId": "4123ed1c-bcf6-493b-916d-fcfb161fa796"
      },
      "source": [
        "!pip install faker"
      ],
      "execution_count": 78,
      "outputs": [
        {
          "output_type": "stream",
          "text": [
            "Requirement already satisfied: faker in /usr/local/lib/python3.7/dist-packages (8.10.1)\n",
            "Requirement already satisfied: text-unidecode==1.3 in /usr/local/lib/python3.7/dist-packages (from faker) (1.3)\n",
            "Requirement already satisfied: python-dateutil>=2.4 in /usr/local/lib/python3.7/dist-packages (from faker) (2.8.1)\n",
            "Requirement already satisfied: six>=1.5 in /usr/local/lib/python3.7/dist-packages (from python-dateutil>=2.4->faker) (1.15.0)\n"
          ],
          "name": "stdout"
        }
      ]
    },
    {
      "cell_type": "code",
      "metadata": {
        "id": "of7Y-Xx81mHu"
      },
      "source": [
        "import pandas as pd\n",
        "from tqdm import tqdm\n",
        "import csv\n",
        "import random\n",
        "import string\n",
        "from faker import Faker\n",
        "\n"
      ],
      "execution_count": 79,
      "outputs": []
    },
    {
      "cell_type": "code",
      "metadata": {
        "id": "7JMWND146inY"
      },
      "source": [
        "\n",
        "\n",
        "fake = Faker()\n"
      ],
      "execution_count": 80,
      "outputs": []
    },
    {
      "cell_type": "code",
      "metadata": {
        "colab": {
          "base_uri": "https://localhost:8080/"
        },
        "id": "MWQbyO7cM-sY",
        "outputId": "0e354988-47e3-4250-b358-d57cef9bb851"
      },
      "source": [
        "import numpy\n",
        "nums = numpy.random.choice([0, 1], size=10, p=[.8, .2])\n",
        "\n",
        "nums"
      ],
      "execution_count": 82,
      "outputs": [
        {
          "output_type": "execute_result",
          "data": {
            "text/plain": [
              "array([0, 0, 0, 0, 0, 0, 0, 0, 1, 0])"
            ]
          },
          "metadata": {
            "tags": []
          },
          "execution_count": 82
        }
      ]
    },
    {
      "cell_type": "code",
      "metadata": {
        "colab": {
          "base_uri": "https://localhost:8080/"
        },
        "id": "oRehXVvRYi3g",
        "outputId": "e4b42ccf-8e1b-4ead-b5c6-56ccb3f503a9"
      },
      "source": [
        "print \n",
        "no_src_id =15\n",
        "\n",
        "src_ids=numpy.random.choice(10, no_src_id, replace=True)\n",
        "src_ids"
      ],
      "execution_count": 83,
      "outputs": [
        {
          "output_type": "execute_result",
          "data": {
            "text/plain": [
              "array([6, 8, 6, 0, 9, 4, 3, 0, 5, 2, 0, 0, 2, 9, 1])"
            ]
          },
          "metadata": {
            "tags": []
          },
          "execution_count": 83
        }
      ]
    },
    {
      "cell_type": "markdown",
      "metadata": {
        "id": "ujL5g-GPuLMV"
      },
      "source": [
        "\n",
        "  •\tt : timestamp\t\t(the time of the transfer)\n",
        "\t•\ttype : [origin|peer]\t(whether the transfer was from a peer or from origin)\n",
        "\t•\tsize: int4\t\t(the size, in bytes, of the downloaded content)\n",
        "\t•\tduration : int4\t(the duration in milliseconds that it took for the transfer to complete)\n",
        "\t•\tsource_id: string\t(for peer transfers, a UUID for the peer/coworker.  Null for origin transfers)\n",
        "\t•\tdest_id: string\t(a UUID for the viewer who is downloading the video stream)\n",
        "\n",
        "\n",
        "\n",
        " "
      ]
    },
    {
      "cell_type": "code",
      "metadata": {
        "colab": {
          "base_uri": "https://localhost:8080/",
          "height": 393
        },
        "id": "tvc9me0Teqz3",
        "outputId": "2f483ac1-c3d4-4344-f710-d626fae11ebb"
      },
      "source": [
        "import faker\n",
        "import typing as tp\n",
        "import numpy\n",
        "\n",
        "class Transfer:\n",
        "    def __init__(\n",
        "        self,\n",
        "        t: tp.Optional[int] = None,\n",
        "        type: tp.Optional[str]  = None,\n",
        "        source_id: tp.Optional[str] = None,\n",
        "        size: int = 1,\n",
        "        duration: tp.Optional[int] = None,\n",
        "        dest_id: tp.Optional[str] = None,\n",
        "    ):\n",
        "        self.t = t\n",
        "        self.type= type\n",
        "        self.source_id = source_id\n",
        "        self.size = size\n",
        "        self.duration = duration\n",
        "        self.dest_id = dest_id\n",
        "\n",
        "    def to_dict(self) -> dict:\n",
        "        return {\n",
        "            \"t\" : self.t,\n",
        "            \"type\": self.type,\n",
        "\n",
        "            \"source_id\": self.source_id,\n",
        "            \"size\":self.size,\n",
        "            \"duration\": self.duration,\n",
        "            \"dest_id\": self.dest_id,\n",
        "        }\n",
        "\n",
        "transfers = tqdm([Transfer() for i in range(10)] )\n",
        "transfers_list =[]\n",
        "nums = numpy.random.choice([0, 1], size=10, p=[.8, .2])\n",
        "no_src_id =2\n",
        "src_ids=numpy.random.choice(10, no_src_id, replace=True)\n",
        "for idx,t in enumerate(transfers):\n",
        "  type_val = 'peer' if nums[idx] == 0 else 'origin'\n",
        "\n",
        "  source_id = random.choice(src_ids)if type_val=='peer'  else ''\n",
        "\n",
        "  if type_val == 'peer':\n",
        "    t.duration = random.randrange(0.5*100, 1*100, 2)\n",
        "  else:\n",
        "    t.duration = random.randrange(3*100, 4*100, 2)\n",
        "\n",
        "   \n",
        "  t.t = fake.date_time_between(start_date='-1m', end_date='now')\n",
        "  t.type = type_val\n",
        "  t.dest_id = fake.uuid4()\n",
        "  t.size = random.randrange(1*1024, 10*1024, 2)\n",
        "  t.source_id = source_id\n",
        "  transfers_list.append(t)\n",
        "\n",
        "transfer_dicts = [transfer.to_dict() for transfer in transfers_list]\n",
        "df = pd.DataFrame(transfer_dicts)\n",
        "df"
      ],
      "execution_count": 81,
      "outputs": [
        {
          "output_type": "stream",
          "text": [
            "\n",
            "100%|██████████| 10/10 [00:00<00:00, 3302.34it/s]\n"
          ],
          "name": "stderr"
        },
        {
          "output_type": "execute_result",
          "data": {
            "text/html": [
              "<div>\n",
              "<style scoped>\n",
              "    .dataframe tbody tr th:only-of-type {\n",
              "        vertical-align: middle;\n",
              "    }\n",
              "\n",
              "    .dataframe tbody tr th {\n",
              "        vertical-align: top;\n",
              "    }\n",
              "\n",
              "    .dataframe thead th {\n",
              "        text-align: right;\n",
              "    }\n",
              "</style>\n",
              "<table border=\"1\" class=\"dataframe\">\n",
              "  <thead>\n",
              "    <tr style=\"text-align: right;\">\n",
              "      <th></th>\n",
              "      <th>t</th>\n",
              "      <th>type</th>\n",
              "      <th>source_id</th>\n",
              "      <th>size</th>\n",
              "      <th>duration</th>\n",
              "      <th>dest_id</th>\n",
              "    </tr>\n",
              "  </thead>\n",
              "  <tbody>\n",
              "    <tr>\n",
              "      <th>0</th>\n",
              "      <td>2021-07-14 14:54:15</td>\n",
              "      <td>peer</td>\n",
              "      <td>2</td>\n",
              "      <td>6320</td>\n",
              "      <td>64</td>\n",
              "      <td>cee94bf0-a12d-4e2b-8e07-ed1b2bf0ad8a</td>\n",
              "    </tr>\n",
              "    <tr>\n",
              "      <th>1</th>\n",
              "      <td>2021-07-14 14:55:07</td>\n",
              "      <td>peer</td>\n",
              "      <td>5</td>\n",
              "      <td>8966</td>\n",
              "      <td>74</td>\n",
              "      <td>af3391bc-3c64-4da0-9e59-5db292bb660b</td>\n",
              "    </tr>\n",
              "    <tr>\n",
              "      <th>2</th>\n",
              "      <td>2021-07-14 14:55:04</td>\n",
              "      <td>peer</td>\n",
              "      <td>5</td>\n",
              "      <td>6062</td>\n",
              "      <td>68</td>\n",
              "      <td>17bd4e1d-e14c-455b-8846-508cfc357312</td>\n",
              "    </tr>\n",
              "    <tr>\n",
              "      <th>3</th>\n",
              "      <td>2021-07-14 14:54:35</td>\n",
              "      <td>peer</td>\n",
              "      <td>2</td>\n",
              "      <td>7052</td>\n",
              "      <td>86</td>\n",
              "      <td>7e7d86a1-6c09-4fff-94cf-06340a5cad6d</td>\n",
              "    </tr>\n",
              "    <tr>\n",
              "      <th>4</th>\n",
              "      <td>2021-07-14 14:54:46</td>\n",
              "      <td>origin</td>\n",
              "      <td></td>\n",
              "      <td>3304</td>\n",
              "      <td>346</td>\n",
              "      <td>1136388a-24e1-46c5-a8f7-f96aa7a3ee0b</td>\n",
              "    </tr>\n",
              "    <tr>\n",
              "      <th>5</th>\n",
              "      <td>2021-07-14 14:54:27</td>\n",
              "      <td>origin</td>\n",
              "      <td></td>\n",
              "      <td>3982</td>\n",
              "      <td>398</td>\n",
              "      <td>c475ce64-7736-4265-bbf9-c0c0b9a24feb</td>\n",
              "    </tr>\n",
              "    <tr>\n",
              "      <th>6</th>\n",
              "      <td>2021-07-14 14:54:17</td>\n",
              "      <td>peer</td>\n",
              "      <td>5</td>\n",
              "      <td>9854</td>\n",
              "      <td>98</td>\n",
              "      <td>beb1fe1f-f2b3-45a6-9e36-ab4aede01ed2</td>\n",
              "    </tr>\n",
              "    <tr>\n",
              "      <th>7</th>\n",
              "      <td>2021-07-14 14:54:50</td>\n",
              "      <td>peer</td>\n",
              "      <td>2</td>\n",
              "      <td>2606</td>\n",
              "      <td>58</td>\n",
              "      <td>f20b4b5c-b46a-4e9c-99fc-8f841b6e4f87</td>\n",
              "    </tr>\n",
              "    <tr>\n",
              "      <th>8</th>\n",
              "      <td>2021-07-14 14:54:35</td>\n",
              "      <td>peer</td>\n",
              "      <td>2</td>\n",
              "      <td>9452</td>\n",
              "      <td>94</td>\n",
              "      <td>d95ad9e9-e222-49dc-afa2-a5f597368571</td>\n",
              "    </tr>\n",
              "    <tr>\n",
              "      <th>9</th>\n",
              "      <td>2021-07-14 14:54:24</td>\n",
              "      <td>origin</td>\n",
              "      <td></td>\n",
              "      <td>7448</td>\n",
              "      <td>374</td>\n",
              "      <td>de7bc5fc-24da-46d6-965d-bc40b4fbcf2b</td>\n",
              "    </tr>\n",
              "  </tbody>\n",
              "</table>\n",
              "</div>"
            ],
            "text/plain": [
              "                    t    type  ... duration                               dest_id\n",
              "0 2021-07-14 14:54:15    peer  ...       64  cee94bf0-a12d-4e2b-8e07-ed1b2bf0ad8a\n",
              "1 2021-07-14 14:55:07    peer  ...       74  af3391bc-3c64-4da0-9e59-5db292bb660b\n",
              "2 2021-07-14 14:55:04    peer  ...       68  17bd4e1d-e14c-455b-8846-508cfc357312\n",
              "3 2021-07-14 14:54:35    peer  ...       86  7e7d86a1-6c09-4fff-94cf-06340a5cad6d\n",
              "4 2021-07-14 14:54:46  origin  ...      346  1136388a-24e1-46c5-a8f7-f96aa7a3ee0b\n",
              "5 2021-07-14 14:54:27  origin  ...      398  c475ce64-7736-4265-bbf9-c0c0b9a24feb\n",
              "6 2021-07-14 14:54:17    peer  ...       98  beb1fe1f-f2b3-45a6-9e36-ab4aede01ed2\n",
              "7 2021-07-14 14:54:50    peer  ...       58  f20b4b5c-b46a-4e9c-99fc-8f841b6e4f87\n",
              "8 2021-07-14 14:54:35    peer  ...       94  d95ad9e9-e222-49dc-afa2-a5f597368571\n",
              "9 2021-07-14 14:54:24  origin  ...      374  de7bc5fc-24da-46d6-965d-bc40b4fbcf2b\n",
              "\n",
              "[10 rows x 6 columns]"
            ]
          },
          "metadata": {
            "tags": []
          },
          "execution_count": 81
        }
      ]
    },
    {
      "cell_type": "code",
      "metadata": {
        "colab": {
          "base_uri": "https://localhost:8080/",
          "height": 204
        },
        "id": "caXoEpsyU2yM",
        "outputId": "8cc17657-7cb3-404d-9436-f1e58fe87ba2"
      },
      "source": [
        "df['percentage'] = (df[df['type']== 'peer']['size'] / df['size'].sum()) * 100\n",
        "df.head(5)"
      ],
      "execution_count": 147,
      "outputs": [
        {
          "output_type": "execute_result",
          "data": {
            "text/html": [
              "<div>\n",
              "<style scoped>\n",
              "    .dataframe tbody tr th:only-of-type {\n",
              "        vertical-align: middle;\n",
              "    }\n",
              "\n",
              "    .dataframe tbody tr th {\n",
              "        vertical-align: top;\n",
              "    }\n",
              "\n",
              "    .dataframe thead th {\n",
              "        text-align: right;\n",
              "    }\n",
              "</style>\n",
              "<table border=\"1\" class=\"dataframe\">\n",
              "  <thead>\n",
              "    <tr style=\"text-align: right;\">\n",
              "      <th></th>\n",
              "      <th>t</th>\n",
              "      <th>type</th>\n",
              "      <th>source_id</th>\n",
              "      <th>size</th>\n",
              "      <th>duration</th>\n",
              "      <th>dest_id</th>\n",
              "      <th>percentage</th>\n",
              "    </tr>\n",
              "  </thead>\n",
              "  <tbody>\n",
              "    <tr>\n",
              "      <th>0</th>\n",
              "      <td>2021-07-14 14:54:15</td>\n",
              "      <td>peer</td>\n",
              "      <td>2</td>\n",
              "      <td>6320</td>\n",
              "      <td>64</td>\n",
              "      <td>cee94bf0-a12d-4e2b-8e07-ed1b2bf0ad8a</td>\n",
              "      <td>9.716201</td>\n",
              "    </tr>\n",
              "    <tr>\n",
              "      <th>1</th>\n",
              "      <td>2021-07-14 14:55:07</td>\n",
              "      <td>peer</td>\n",
              "      <td>5</td>\n",
              "      <td>8966</td>\n",
              "      <td>74</td>\n",
              "      <td>af3391bc-3c64-4da0-9e59-5db292bb660b</td>\n",
              "      <td>13.784091</td>\n",
              "    </tr>\n",
              "    <tr>\n",
              "      <th>2</th>\n",
              "      <td>2021-07-14 14:55:04</td>\n",
              "      <td>peer</td>\n",
              "      <td>5</td>\n",
              "      <td>6062</td>\n",
              "      <td>68</td>\n",
              "      <td>17bd4e1d-e14c-455b-8846-508cfc357312</td>\n",
              "      <td>9.319558</td>\n",
              "    </tr>\n",
              "    <tr>\n",
              "      <th>3</th>\n",
              "      <td>2021-07-14 14:54:35</td>\n",
              "      <td>peer</td>\n",
              "      <td>2</td>\n",
              "      <td>7052</td>\n",
              "      <td>86</td>\n",
              "      <td>7e7d86a1-6c09-4fff-94cf-06340a5cad6d</td>\n",
              "      <td>10.841558</td>\n",
              "    </tr>\n",
              "    <tr>\n",
              "      <th>4</th>\n",
              "      <td>2021-07-14 14:54:46</td>\n",
              "      <td>origin</td>\n",
              "      <td></td>\n",
              "      <td>3304</td>\n",
              "      <td>346</td>\n",
              "      <td>1136388a-24e1-46c5-a8f7-f96aa7a3ee0b</td>\n",
              "      <td>NaN</td>\n",
              "    </tr>\n",
              "  </tbody>\n",
              "</table>\n",
              "</div>"
            ],
            "text/plain": [
              "                    t    type  ...                               dest_id  percentage\n",
              "0 2021-07-14 14:54:15    peer  ...  cee94bf0-a12d-4e2b-8e07-ed1b2bf0ad8a    9.716201\n",
              "1 2021-07-14 14:55:07    peer  ...  af3391bc-3c64-4da0-9e59-5db292bb660b   13.784091\n",
              "2 2021-07-14 14:55:04    peer  ...  17bd4e1d-e14c-455b-8846-508cfc357312    9.319558\n",
              "3 2021-07-14 14:54:35    peer  ...  7e7d86a1-6c09-4fff-94cf-06340a5cad6d   10.841558\n",
              "4 2021-07-14 14:54:46  origin  ...  1136388a-24e1-46c5-a8f7-f96aa7a3ee0b         NaN\n",
              "\n",
              "[5 rows x 7 columns]"
            ]
          },
          "metadata": {
            "tags": []
          },
          "execution_count": 147
        }
      ]
    },
    {
      "cell_type": "code",
      "metadata": {
        "colab": {
          "base_uri": "https://localhost:8080/",
          "height": 295
        },
        "id": "TshrExD1vf98",
        "outputId": "5cf7a1e9-70c4-4596-9004-a160da07702d"
      },
      "source": [
        "#How much bandwidth was saved for the customer?  (peer bytes / total bytes)\n",
        "\n",
        "df.plot(kind='bar', x='size', y='percentage');\n"
      ],
      "execution_count": 146,
      "outputs": [
        {
          "output_type": "display_data",
          "data": {
            "image/png": "[encoded data removed]",
            "text/plain": [
              "<Figure size 432x288 with 1 Axes>"
            ]
          },
          "metadata": {
            "tags": [],
            "needs_background": "light"
          }
        }
      ]
    },
    {
      "cell_type": "code",
      "metadata": {
        "colab": {
          "base_uri": "https://localhost:8080/",
          "height": 283
        },
        "id": "L_aMP1TX54i6",
        "outputId": "a9a78627-b2e8-4403-9379-c6fd5317d727"
      },
      "source": [
        "#How did transfer durations between peer and origin compare?\n",
        "import pandas as pd\n",
        "import seaborn as sns\n",
        "\n",
        "\n",
        "x, y, hue = \"size\", \"duration\", \"type\"\n",
        "hue_order = [\"peer\", \"origin\"]\n",
        "\n",
        "(df[x]\n",
        " .groupby(df[hue])\n",
        " .value_counts(normalize=True)\n",
        " .rename(y)\n",
        " .reset_index()\n",
        " .pipe((sns.barplot, \"data\"), x=x, y=y, hue=hue));"
      ],
      "execution_count": 103,
      "outputs": [
        {
          "output_type": "display_data",
          "data": {
            "image/png": "[encoded data removed]",
            "text/plain": [
              "<Figure size 432x288 with 1 Axes>"
            ]
          },
          "metadata": {
            "tags": [],
            "needs_background": "light"
          }
        }
      ]
    },
    {
      "cell_type": "code",
      "metadata": {
        "colab": {
          "base_uri": "https://localhost:8080/",
          "height": 265
        },
        "id": "kyU_XQllRBZS",
        "outputId": "3bf43d16-17a2-4027-9580-158a75f9d1b4"
      },
      "source": [
        "#How much bandwidth was consumed over time (Mbps)?\n",
        "\n",
        "fig, ax = plt.subplots()\n",
        "df['duration'].cumsum().plot( kind=\"line\")\n",
        "df[df['type']== 'peer']['duration'].cumsum().plot(kind=\"line\")\n",
        "df[df['type']== 'origin']['duration'].cumsum().plot(kind='line')\n",
        "ax.legend([\"total\", \"peer\",\"origin\"]);"
      ],
      "execution_count": 143,
      "outputs": [
        {
          "output_type": "display_data",
          "data": {
            "image/png": "[encoded data removed]",
            "text/plain": [
              "<Figure size 432x288 with 1 Axes>"
            ]
          },
          "metadata": {
            "tags": [],
            "needs_background": "light"
          }
        }
      ]
    }
  ]
}